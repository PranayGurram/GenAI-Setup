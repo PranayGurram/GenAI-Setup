{
 "cells": [
  {
   "cell_type": "markdown",
   "id": "ebe2d92e",
   "metadata": {},
   "source": [
    "## Requirements"
   ]
  },
  {
   "cell_type": "code",
   "execution_count": 1,
   "id": "32bf4aac",
   "metadata": {},
   "outputs": [
    {
     "name": "stdout",
     "output_type": "stream",
     "text": [
      "Requirement already satisfied: google-generativeai in c:\\users\\prana\\anaconda3\\lib\\site-packages (0.8.5)Note: you may need to restart the kernel to use updated packages.\n",
      "\n",
      "Requirement already satisfied: google-ai-generativelanguage==0.6.15 in c:\\users\\prana\\anaconda3\\lib\\site-packages (from google-generativeai) (0.6.15)\n",
      "Requirement already satisfied: google-api-core in c:\\users\\prana\\anaconda3\\lib\\site-packages (from google-generativeai) (2.25.1)\n",
      "Requirement already satisfied: google-api-python-client in c:\\users\\prana\\anaconda3\\lib\\site-packages (from google-generativeai) (2.181.0)\n",
      "Requirement already satisfied: google-auth>=2.15.0 in c:\\users\\prana\\anaconda3\\lib\\site-packages (from google-generativeai) (2.40.3)\n",
      "Requirement already satisfied: protobuf in c:\\users\\prana\\anaconda3\\lib\\site-packages (from google-generativeai) (5.29.3)\n",
      "Requirement already satisfied: pydantic in c:\\users\\prana\\anaconda3\\lib\\site-packages (from google-generativeai) (2.10.3)\n",
      "Requirement already satisfied: tqdm in c:\\users\\prana\\anaconda3\\lib\\site-packages (from google-generativeai) (4.67.1)\n",
      "Requirement already satisfied: typing-extensions in c:\\users\\prana\\anaconda3\\lib\\site-packages (from google-generativeai) (4.12.2)\n",
      "Requirement already satisfied: proto-plus<2.0.0dev,>=1.22.3 in c:\\users\\prana\\anaconda3\\lib\\site-packages (from google-ai-generativelanguage==0.6.15->google-generativeai) (1.26.1)\n",
      "Requirement already satisfied: googleapis-common-protos<2.0.0,>=1.56.2 in c:\\users\\prana\\anaconda3\\lib\\site-packages (from google-api-core->google-generativeai) (1.70.0)\n",
      "Requirement already satisfied: requests<3.0.0,>=2.18.0 in c:\\users\\prana\\anaconda3\\lib\\site-packages (from google-api-core->google-generativeai) (2.32.3)\n",
      "Requirement already satisfied: grpcio<2.0.0,>=1.33.2 in c:\\users\\prana\\anaconda3\\lib\\site-packages (from google-api-core[grpc]!=2.0.*,!=2.1.*,!=2.10.*,!=2.2.*,!=2.3.*,!=2.4.*,!=2.5.*,!=2.6.*,!=2.7.*,!=2.8.*,!=2.9.*,<3.0.0dev,>=1.34.1->google-ai-generativelanguage==0.6.15->google-generativeai) (1.74.0)\n",
      "Requirement already satisfied: grpcio-status<2.0.0,>=1.33.2 in c:\\users\\prana\\anaconda3\\lib\\site-packages (from google-api-core[grpc]!=2.0.*,!=2.1.*,!=2.10.*,!=2.2.*,!=2.3.*,!=2.4.*,!=2.5.*,!=2.6.*,!=2.7.*,!=2.8.*,!=2.9.*,<3.0.0dev,>=1.34.1->google-ai-generativelanguage==0.6.15->google-generativeai) (1.71.2)\n",
      "Requirement already satisfied: cachetools<6.0,>=2.0.0 in c:\\users\\prana\\anaconda3\\lib\\site-packages (from google-auth>=2.15.0->google-generativeai) (5.5.1)\n",
      "Requirement already satisfied: pyasn1-modules>=0.2.1 in c:\\users\\prana\\anaconda3\\lib\\site-packages (from google-auth>=2.15.0->google-generativeai) (0.2.8)\n",
      "Requirement already satisfied: rsa<5,>=3.1.4 in c:\\users\\prana\\anaconda3\\lib\\site-packages (from google-auth>=2.15.0->google-generativeai) (4.9.1)\n",
      "Requirement already satisfied: charset-normalizer<4,>=2 in c:\\users\\prana\\anaconda3\\lib\\site-packages (from requests<3.0.0,>=2.18.0->google-api-core->google-generativeai) (3.3.2)\n",
      "Requirement already satisfied: idna<4,>=2.5 in c:\\users\\prana\\anaconda3\\lib\\site-packages (from requests<3.0.0,>=2.18.0->google-api-core->google-generativeai) (3.7)\n",
      "Requirement already satisfied: urllib3<3,>=1.21.1 in c:\\users\\prana\\anaconda3\\lib\\site-packages (from requests<3.0.0,>=2.18.0->google-api-core->google-generativeai) (2.3.0)\n",
      "Requirement already satisfied: certifi>=2017.4.17 in c:\\users\\prana\\anaconda3\\lib\\site-packages (from requests<3.0.0,>=2.18.0->google-api-core->google-generativeai) (2025.8.3)\n",
      "Requirement already satisfied: pyasn1>=0.1.3 in c:\\users\\prana\\anaconda3\\lib\\site-packages (from rsa<5,>=3.1.4->google-auth>=2.15.0->google-generativeai) (0.4.8)\n",
      "Requirement already satisfied: httplib2<1.0.0,>=0.19.0 in c:\\users\\prana\\anaconda3\\lib\\site-packages (from google-api-python-client->google-generativeai) (0.31.0)\n",
      "Requirement already satisfied: google-auth-httplib2<1.0.0,>=0.2.0 in c:\\users\\prana\\anaconda3\\lib\\site-packages (from google-api-python-client->google-generativeai) (0.2.0)\n",
      "Requirement already satisfied: uritemplate<5,>=3.0.1 in c:\\users\\prana\\anaconda3\\lib\\site-packages (from google-api-python-client->google-generativeai) (4.2.0)\n",
      "Requirement already satisfied: pyparsing<4,>=3.0.4 in c:\\users\\prana\\anaconda3\\lib\\site-packages (from httplib2<1.0.0,>=0.19.0->google-api-python-client->google-generativeai) (3.2.0)\n",
      "Requirement already satisfied: annotated-types>=0.6.0 in c:\\users\\prana\\anaconda3\\lib\\site-packages (from pydantic->google-generativeai) (0.6.0)\n",
      "Requirement already satisfied: pydantic-core==2.27.1 in c:\\users\\prana\\anaconda3\\lib\\site-packages (from pydantic->google-generativeai) (2.27.1)\n",
      "Requirement already satisfied: colorama in c:\\users\\prana\\anaconda3\\lib\\site-packages (from tqdm->google-generativeai) (0.4.6)\n"
     ]
    }
   ],
   "source": [
    "pip install google-generativeai"
   ]
  },
  {
   "cell_type": "code",
   "execution_count": 2,
   "id": "4c7680c2",
   "metadata": {},
   "outputs": [],
   "source": [
    "import google.generativeai as genai\n",
    "import os"
   ]
  },
  {
   "cell_type": "code",
   "execution_count": 3,
   "id": "3314a30e",
   "metadata": {},
   "outputs": [],
   "source": [
    "api=os.getenv('GOOGLE_API_KEY')"
   ]
  },
  {
   "cell_type": "markdown",
   "id": "84af894d",
   "metadata": {},
   "source": [
    "### List of all the model Versions that supports content geneartion."
   ]
  },
  {
   "cell_type": "code",
   "execution_count": 5,
   "id": "f0f8826a",
   "metadata": {},
   "outputs": [
    {
     "name": "stdout",
     "output_type": "stream",
     "text": [
      "models/gemini-1.5-pro-latest\n",
      "models/gemini-1.5-pro-002\n",
      "models/gemini-1.5-pro\n",
      "models/gemini-1.5-flash-latest\n",
      "models/gemini-1.5-flash\n",
      "models/gemini-1.5-flash-002\n",
      "models/gemini-1.5-flash-8b\n",
      "models/gemini-1.5-flash-8b-001\n",
      "models/gemini-1.5-flash-8b-latest\n",
      "models/gemini-2.5-pro-preview-03-25\n",
      "models/gemini-2.5-flash-preview-05-20\n",
      "models/gemini-2.5-flash\n",
      "models/gemini-2.5-flash-lite-preview-06-17\n",
      "models/gemini-2.5-pro-preview-05-06\n",
      "models/gemini-2.5-pro-preview-06-05\n",
      "models/gemini-2.5-pro\n",
      "models/gemini-2.0-flash-exp\n",
      "models/gemini-2.0-flash\n",
      "models/gemini-2.0-flash-001\n",
      "models/gemini-2.0-flash-exp-image-generation\n",
      "models/gemini-2.0-flash-lite-001\n",
      "models/gemini-2.0-flash-lite\n",
      "models/gemini-2.0-flash-preview-image-generation\n",
      "models/gemini-2.0-flash-lite-preview-02-05\n",
      "models/gemini-2.0-flash-lite-preview\n",
      "models/gemini-2.0-pro-exp\n",
      "models/gemini-2.0-pro-exp-02-05\n",
      "models/gemini-exp-1206\n",
      "models/gemini-2.0-flash-thinking-exp-01-21\n",
      "models/gemini-2.0-flash-thinking-exp\n",
      "models/gemini-2.0-flash-thinking-exp-1219\n",
      "models/gemini-2.5-flash-preview-tts\n",
      "models/gemini-2.5-pro-preview-tts\n",
      "models/learnlm-2.0-flash-experimental\n",
      "models/gemma-3-1b-it\n",
      "models/gemma-3-4b-it\n",
      "models/gemma-3-12b-it\n",
      "models/gemma-3-27b-it\n",
      "models/gemma-3n-e4b-it\n",
      "models/gemma-3n-e2b-it\n",
      "models/gemini-2.5-flash-lite\n",
      "models/gemini-2.5-flash-image-preview\n"
     ]
    }
   ],
   "source": [
    "for m in genai.list_models():\n",
    "    if 'generateContent' in m.supported_generation_methods:\n",
    "        print(m.name)"
   ]
  },
  {
   "cell_type": "markdown",
   "id": "c26c7a84",
   "metadata": {},
   "source": [
    "### Generate a content from Gemini model"
   ]
  },
  {
   "cell_type": "code",
   "execution_count": 6,
   "id": "5178c6d6",
   "metadata": {},
   "outputs": [],
   "source": [
    "genai.configure(api_key=api)"
   ]
  },
  {
   "cell_type": "code",
   "execution_count": 7,
   "id": "011c61cf",
   "metadata": {},
   "outputs": [],
   "source": [
    "model=genai.GenerativeModel('gemini-2.5-flash-lite')"
   ]
  },
  {
   "cell_type": "code",
   "execution_count": 8,
   "id": "3dc87542",
   "metadata": {},
   "outputs": [],
   "source": [
    "prompt='''Assume you are a sports expert prepare a summary on MS Dhoni's carrer. \n",
    "Include all the key acheviements and statistics. \n",
    "Generate output in bullet points.'''"
   ]
  },
  {
   "cell_type": "code",
   "execution_count": 9,
   "id": "ea7563fb",
   "metadata": {},
   "outputs": [],
   "source": [
    "response = model.generate_content(prompt)"
   ]
  },
  {
   "cell_type": "code",
   "execution_count": 10,
   "id": "d36a5b2c",
   "metadata": {},
   "outputs": [
    {
     "name": "stdout",
     "output_type": "stream",
     "text": [
      "Here's a comprehensive summary of MS Dhoni's illustrious career, presented in bullet points as requested by a sports expert:\n",
      "\n",
      "## MS Dhoni: A Legacy of Leadership, Batting Brilliance, and Unparalleled Success\n",
      "\n",
      "*   **Debut & Early Impact:**\n",
      "    *   Debuted in One Day Internationals (ODIs) against Bangladesh in December 2004.\n",
      "    *   Made a memorable Test debut against Sri Lanka in December 2005.\n",
      "    *   Burst onto the international scene with a swashbuckling 148 against Pakistan in his 5th ODI, showcasing his aggressive batting style.\n",
      "\n",
      "*   **Captaincy & Trophies Galore:**\n",
      "    *   **T20 World Cup 2007:** Led India to their inaugural T20 World Cup title in South Africa, famously handing the final over to Joginder Sharma.\n",
      "    *   **Asia Cup 2010 (ODI):** Captained India to victory in the ODI Asia Cup in Sri Lanka.\n",
      "    *   **Cricket World Cup 2011:** Achieved the pinnacle of ODI cricket by captaining India to their second World Cup title on home soil, culminating in his iconic six.\n",
      "    *   **ICC Champions Trophy 2013:** Became the first captain to win all three major ICC limited-overs tournaments (T20 World Cup, ODI World Cup, Champions Trophy).\n",
      "    *   **Test Cricket Ascendancy:** Led India to the No. 1 ranking in the ICC Test rankings for the first time in December 2009 and held it for over two years.\n",
      "    *   **Successful IPL Captaincy:** Captained Chennai Super Kings (CSK) to multiple Indian Premier League (IPL) titles and CLT20 titles, establishing CSK as a dominant force.\n",
      "\n",
      "*   **Batting Prowess:**\n",
      "    *   **Finishing Extraordinaire:** Widely regarded as one of the greatest finishers in limited-overs cricket, known for his ability to stay calm under pressure and chase down targets with remarkable composure.\n",
      "    *   **Dominant Middle-Order Batsman:** Played a pivotal role in the Indian middle order for over a decade, providing stability and acceleration.\n",
      "    *   **ODI Statistics:**\n",
      "        *   **Matches:** 350\n",
      "        *   **Innings:** 297\n",
      "        *   **Runs:** 10,773\n",
      "        *   **Average:** 50.57\n",
      "        *   **Strike Rate:** 87.56\n",
      "        *   **Centuries:** 2\n",
      "        *   **Half-centuries:** 73\n",
      "        *   **Highest Score:** 183* vs Pakistan\n",
      "    *   **T20I Statistics:**\n",
      "        *   **Matches:** 98\n",
      "        *   **Innings:** 88\n",
      "        *   **Runs:** 1,617\n",
      "        *   **Average:** 31.09\n",
      "        *   **Strike Rate:** 126.13\n",
      "        *   **Highest Score:** 66 vs Sri Lanka\n",
      "    *   **Test Statistics:**\n",
      "        *   **Matches:** 90\n",
      "        *   **Innings:** 143\n",
      "        *   **Runs:** 4,876\n",
      "        *   **Average:** 38.09\n",
      "        *   **Strike Rate:** 53.57\n",
      "        *   **Centuries:** 6\n",
      "        *   **Half-centuries:** 33\n",
      "        *   **Highest Score:** 224 vs Australia\n",
      "\n",
      "*   **Wicket-Keeping Excellence:**\n",
      "    *   **Record-Breaking Dismissals:** Holds the record for the most dismissals by a wicket-keeper in ODIs (444 dismissals in 350 matches).\n",
      "    *   **Agility and Sharpness:** Known for his quick reflexes, astute glove work, and exceptional catching abilities, often pulling off brilliant stumpings.\n",
      "    *   **Test Wicket-Keeping:** Also a highly competent Test wicket-keeper with 256 dismissals in 90 matches.\n",
      "    *   **T20I Wicket-Keeping:** Amassed 54 dismissals in 98 T20Is.\n",
      "\n",
      "*   **Key Milestones & Records:**\n",
      "    *   Most stumpings by a wicket-keeper in ODIs (123).\n",
      "    *   Most matches played as captain in ODIs (332).\n",
      "    *   First wicket-keeper to effect 100 stumpings in ODIs.\n",
      "    *   First Indian captain to win a bilateral ODI series in Australia.\n",
      "    *   One of the few players to have played over 300 ODIs, scored over 10,000 runs, and taken over 400 catches.\n",
      "    *   Recipient of prestigious awards like the ICC ODI Player of the Year (2008, 2009), Rajiv Gandhi Khel Ratna Award (2007), and Padma Shri (2009), Padma Bhushan (2018).\n",
      "\n",
      "*   **Retirement & Enduring Legacy:**\n",
      "    *   Announced his retirement from international cricket on August 15, 2020.\n",
      "    *   Leaves behind a legacy as one of the greatest captains and wicket-keeper batsmen in the history of cricket.\n",
      "    *   His calm demeanor, strategic brilliance, and match-winning abilities have inspired a generation of cricketers and fans worldwide.\n",
      "    *   Continues to be a prominent figure in the IPL, leading CSK with distinction.\n"
     ]
    }
   ],
   "source": [
    "print(response.text)"
   ]
  },
  {
   "cell_type": "code",
   "execution_count": null,
   "id": "42dc4831",
   "metadata": {},
   "outputs": [],
   "source": []
  }
 ],
 "metadata": {
  "kernelspec": {
   "display_name": "base",
   "language": "python",
   "name": "python3"
  },
  "language_info": {
   "codemirror_mode": {
    "name": "ipython",
    "version": 3
   },
   "file_extension": ".py",
   "mimetype": "text/x-python",
   "name": "python",
   "nbconvert_exporter": "python",
   "pygments_lexer": "ipython3",
   "version": "3.13.5"
  }
 },
 "nbformat": 4,
 "nbformat_minor": 5
}
